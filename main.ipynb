{
 "cells": [
  {
   "attachments": {},
   "cell_type": "markdown",
   "metadata": {},
   "source": [
    "Functions"
   ]
  },
  {
   "cell_type": "code",
   "execution_count": 81,
   "metadata": {},
   "outputs": [],
   "source": [
    "import re\n",
    "\n",
    "\n",
    "indices = {}\n",
    "\n",
    "\n",
    "def load(name):\n",
    "    \"\"\"\n",
    "    Load the data\n",
    "\n",
    "    params:\n",
    "    name:   file directory and name\n",
    "    \"\"\"\n",
    "    arr = []\n",
    "    with open(name) as f:\n",
    "        for i in f:\n",
    "            x = [j.strip() for j in re.split(',|\\[|\\]', i)]\n",
    "            xtmp = []\n",
    "            xtmp.append(int(x[1]))\n",
    "            xtmp.append(int(x[2]))\n",
    "            xtmp2 = []\n",
    "            xtmp2.append(int(x[4]))\n",
    "            xtmp2.append(int(x[5]))\n",
    "            arr.append(xtmp)\n",
    "            arr.append(xtmp2)\n",
    "\n",
    "    return arr\n",
    "\n",
    "\n",
    "# textArr.sort(key=takeSecond)\n",
    "def takeThird(arr):\n",
    "    \"\"\"\n",
    "    Used as a key to return the 2nd element in an array\n",
    "\n",
    "    params:\n",
    "    arr:    input array\n",
    "    \"\"\"\n",
    "    return arr[2]\n",
    "\n",
    "\n",
    "def dist(x, y):\n",
    "    x1 = x[0]\n",
    "    x2 = x[1]\n",
    "    y1 = y[0]\n",
    "    y2 = y[1]\n",
    "    return ((x1 - y1)**2 + (x2 - y2)**2)**0.5\n",
    "\n",
    "\n",
    "def buildSet(arr):\n",
    "    my_set = set()\n",
    "    my_keys = []\n",
    "    c = 0\n",
    "    for i in arr:\n",
    "        x = (i[0], i[1])\n",
    "        if x not in my_set:\n",
    "            my_set.add((i[0], i[1]))\n",
    "            my_keys.append(c)\n",
    "            c += 1\n",
    "    l = list(my_set)\n",
    "    return l, my_keys\n",
    "\n",
    "\n",
    "def create_map(lst):\n",
    "    indices = {}\n",
    "    for i, x in enumerate(lst):\n",
    "        indices[x] = i\n",
    "    return indices\n",
    "\n",
    "\n",
    "def find_index(element):\n",
    "    return indices[element]"
   ]
  },
  {
   "attachments": {},
   "cell_type": "markdown",
   "metadata": {},
   "source": [
    "Class"
   ]
  },
  {
   "cell_type": "code",
   "execution_count": 82,
   "metadata": {},
   "outputs": [],
   "source": [
    "# Credit to: https://www.programiz.com/dsa/kruskal-algorithm\n",
    "class Graph:\n",
    "    def __init__(self, vertices):\n",
    "        self.V = vertices\n",
    "        self.graph = []\n",
    "\n",
    "    def add_edge(self, u, v, w):\n",
    "        self.graph.append([u, v, w])\n",
    "\n",
    "    def get(self):\n",
    "        return self.graph\n",
    "\n",
    "    # Search function\n",
    "    def find(self, parent, i):\n",
    "        if parent[i] == i:\n",
    "            return i\n",
    "        return self.find(parent, parent[i])\n",
    "\n",
    "    def apply_union(self, parent, rank, x, y):\n",
    "        xroot = self.find(parent, x)\n",
    "        yroot = self.find(parent, y)\n",
    "        if rank[xroot] < rank[yroot]:\n",
    "            parent[xroot] = yroot\n",
    "        elif rank[xroot] > rank[yroot]:\n",
    "            parent[yroot] = xroot\n",
    "        else:\n",
    "            parent[yroot] = xroot\n",
    "            rank[xroot] += 1\n",
    "\n",
    "    #  Applying Kruskal algorithm\n",
    "    def kruskal_algo(self, initial_edges):\n",
    "        result = initial_edges[:]\n",
    "        i, e = 0, len(initial_edges)\n",
    "        self.graph = sorted(self.graph, key=lambda item: item[2])\n",
    "        parent = []\n",
    "        rank = []\n",
    "        total = 0\n",
    "        for node in range(self.V):\n",
    "            parent.append(node)\n",
    "            rank.append(0)\n",
    "        for k in result:\n",
    "            u = k[0]\n",
    "            v = k[1]\n",
    "            w = k[2]\n",
    "            x = self.find(parent, u)\n",
    "            y = self.find(parent, v)\n",
    "            self.apply_union(parent, rank, x, y)\n",
    "        while e < self.V - 1:\n",
    "            u, v, w = self.graph[i]\n",
    "            i = i + 1\n",
    "            x = self.find(parent, u)\n",
    "            y = self.find(parent, v)\n",
    "            if x != y:\n",
    "                e = e + 1\n",
    "                result.append([u, v, w])\n",
    "                self.apply_union(parent, rank, x, y)\n",
    "                total += w\n",
    "        for u, v, weight in result:\n",
    "            print(\"%d - %d: %d\" % (u, v, weight))\n",
    "        print(\"Total = \", total)"
   ]
  },
  {
   "attachments": {},
   "cell_type": "markdown",
   "metadata": {},
   "source": [
    "Load"
   ]
  },
  {
   "cell_type": "code",
   "execution_count": 83,
   "metadata": {},
   "outputs": [],
   "source": [
    "arr = load(\"./graf18.txt\")"
   ]
  },
  {
   "attachments": {},
   "cell_type": "markdown",
   "metadata": {},
   "source": [
    "Keys"
   ]
  },
  {
   "cell_type": "code",
   "execution_count": 84,
   "metadata": {},
   "outputs": [],
   "source": [
    "myList, myKeys = buildSet(arr)\n",
    "num_vertices = len(myList)"
   ]
  },
  {
   "attachments": {},
   "cell_type": "markdown",
   "metadata": {},
   "source": [
    "Indices"
   ]
  },
  {
   "cell_type": "code",
   "execution_count": 85,
   "metadata": {},
   "outputs": [
    {
     "data": {
      "text/plain": [
       "{(2, 14): 0,\n",
       " (10, 11): 1,\n",
       " (9, 3): 2,\n",
       " (4, 12): 3,\n",
       " (3, 16): 4,\n",
       " (4, 2): 5,\n",
       " (1, 17): 6,\n",
       " (7, 9): 7,\n",
       " (3, 3): 8,\n",
       " (2, 12): 9,\n",
       " (10, 12): 10,\n",
       " (1, 16): 11,\n",
       " (4, 11): 12,\n",
       " (9, 11): 13,\n",
       " (3, 2): 14,\n",
       " (6, 3): 15,\n",
       " (6, 9): 16,\n",
       " (11, 11): 17}"
      ]
     },
     "execution_count": 85,
     "metadata": {},
     "output_type": "execute_result"
    }
   ],
   "source": [
    "indices = create_map(myList)"
   ]
  },
  {
   "attachments": {},
   "cell_type": "markdown",
   "metadata": {},
   "source": [
    "Initial Edges"
   ]
  },
  {
   "cell_type": "code",
   "execution_count": 86,
   "metadata": {},
   "outputs": [],
   "source": [
    "initial_edges = []\n",
    "\n",
    "g = Graph(num_vertices)\n",
    "for i in range(0, len(arr), 2):\n",
    "    initial_edges.append([find_index((arr[i][0], arr[i][1])), find_index((arr[i + 1][0], arr[i + 1][1])), dist(arr[i], arr[i + 1])])"
   ]
  },
  {
   "attachments": {},
   "cell_type": "markdown",
   "metadata": {},
   "source": [
    "All edges"
   ]
  },
  {
   "cell_type": "code",
   "execution_count": 87,
   "metadata": {},
   "outputs": [],
   "source": [
    "e = []\n",
    "for i in range(len(myList)):\n",
    "    for j in range(i + 1, len(myList)):\n",
    "        e.append([find_index((myList[i])), find_index((myList[j])), dist(myList[i], myList[j])])"
   ]
  },
  {
   "attachments": {},
   "cell_type": "markdown",
   "metadata": {},
   "source": [
    "Add edges"
   ]
  },
  {
   "cell_type": "code",
   "execution_count": 88,
   "metadata": {},
   "outputs": [],
   "source": [
    "e.sort(key=takeThird)\n",
    "for i in e:\n",
    "    g.add_edge(i[0], i[1], i[2])"
   ]
  },
  {
   "attachments": {},
   "cell_type": "markdown",
   "metadata": {},
   "source": [
    "Algorithm"
   ]
  },
  {
   "cell_type": "code",
   "execution_count": 90,
   "metadata": {},
   "outputs": [
    {
     "name": "stdout",
     "output_type": "stream",
     "text": [
      "6 - 11: 1\n",
      "11 - 4: 2\n",
      "16 - 7: 1\n",
      "8 - 14: 1\n",
      "14 - 5: 1\n",
      "0 - 9: 2\n",
      "9 - 3: 2\n",
      "3 - 12: 1\n",
      "13 - 17: 2\n",
      "1 - 10: 1\n",
      "15 - 2: 3\n",
      "1 - 13: 1\n",
      "0 - 4: 2\n",
      "5 - 15: 2\n",
      "7 - 13: 2\n",
      "12 - 16: 2\n",
      "15 - 16: 6\n",
      "Total =  17.12899020449196\n"
     ]
    }
   ],
   "source": [
    "g.kruskal_algo(initial_edges)"
   ]
  }
 ],
 "metadata": {
  "kernelspec": {
   "display_name": "Python 3",
   "language": "python",
   "name": "python3"
  },
  "language_info": {
   "codemirror_mode": {
    "name": "ipython",
    "version": 3
   },
   "file_extension": ".py",
   "mimetype": "text/x-python",
   "name": "python",
   "nbconvert_exporter": "python",
   "pygments_lexer": "ipython3",
   "version": "3.10.0"
  },
  "orig_nbformat": 4
 },
 "nbformat": 4,
 "nbformat_minor": 2
}
