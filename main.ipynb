{
 "cells": [
  {
   "attachments": {},
   "cell_type": "markdown",
   "metadata": {},
   "source": [
    "Functions"
   ]
  },
  {
   "cell_type": "code",
   "execution_count": 1,
   "metadata": {},
   "outputs": [],
   "source": [
    "import re\n",
    "import numpy as np\n",
    "\n",
    "indices = {}\n",
    "\n",
    "\n",
    "def load(name):\n",
    "    \"\"\"\n",
    "    Load the data\n",
    "\n",
    "    params:\n",
    "    name:   file directory and name\n",
    "    \"\"\"\n",
    "    arr = []\n",
    "    with open(name) as f:\n",
    "        for i in f:\n",
    "            x = [j.strip() for j in re.split(',|\\[|\\]', i)]\n",
    "            xtmp = []\n",
    "            xtmp.append(int(x[1]))\n",
    "            xtmp.append(int(x[2]))\n",
    "            xtmp2 = []\n",
    "            xtmp2.append(int(x[4]))\n",
    "            xtmp2.append(int(x[5]))\n",
    "            arr.append(xtmp)\n",
    "            arr.append(xtmp2)\n",
    "\n",
    "    return arr\n",
    "\n",
    "\n",
    "# textArr.sort(key=takeSecond)\n",
    "def takeThird(arr):\n",
    "    \"\"\"\n",
    "    Used as a key to return the 2nd element in an array\n",
    "\n",
    "    params:\n",
    "    arr:    input array\n",
    "    \"\"\"\n",
    "    return arr[2]\n",
    "\n",
    "\n",
    "def dist(a, b):\n",
    "    return np.sqrt(np.sum((a-b)**2))\n",
    "\n",
    "\n",
    "def dist_2(x, y):\n",
    "    x1 = x[0]\n",
    "    x2 = x[1]\n",
    "    y1 = y[0]\n",
    "    y2 = y[1]\n",
    "    return ((x1 - y1)**2 + (x2 - y2)**2)**0.5\n",
    "    \n",
    "\n",
    "def pairwise_distances(myArray):\n",
    "    # Set negative values to zero\n",
    "    myArray[myArray < 0] = 0\n",
    "    d = np.sqrt(np.sum((myArray[:, np.newaxis, :] - myArray[np.newaxis, :, :])**2, axis=-1))\n",
    "    return d\n",
    "\n",
    "\n",
    "def buildSet(arr):\n",
    "    my_set = set()\n",
    "    my_keys = []\n",
    "    c = 0\n",
    "    for i in arr:\n",
    "        x = (i[0], i[1])\n",
    "        if x not in my_set:\n",
    "            my_set.add((i[0], i[1]))\n",
    "            my_keys.append(c)\n",
    "            c += 1\n",
    "    l = list(my_set)\n",
    "    return l, my_keys\n",
    "\n",
    "\n",
    "def create_map(lst):\n",
    "    indices = {}\n",
    "    for i, x in enumerate(lst):\n",
    "        indices[x] = i\n",
    "    return indices\n",
    "\n",
    "\n",
    "def find_index(element):\n",
    "    return indices[element]"
   ]
  },
  {
   "attachments": {},
   "cell_type": "markdown",
   "metadata": {},
   "source": [
    "Class"
   ]
  },
  {
   "cell_type": "code",
   "execution_count": 2,
   "metadata": {},
   "outputs": [],
   "source": [
    "# Credit to: https://www.programiz.com/dsa/kruskal-algorithm\n",
    "class Graph:\n",
    "    def __init__(self, vertices, edge):\n",
    "        self.V = vertices\n",
    "        self.graph = edge\n",
    "        self.i = 0\n",
    "\n",
    "    def get(self):\n",
    "        return self.graph\n",
    "\n",
    "    # Search function\n",
    "    def find(self, parent, i):\n",
    "        if parent[i] == i:\n",
    "            return i\n",
    "        return self.find(parent, parent[i])\n",
    "\n",
    "    def apply_union(self, parent, rank, x, y):\n",
    "        xroot = self.find(parent, x)\n",
    "        yroot = self.find(parent, y)\n",
    "        if rank[xroot] < rank[yroot]:\n",
    "            parent[xroot] = yroot\n",
    "        elif rank[xroot] > rank[yroot]:\n",
    "            parent[yroot] = xroot\n",
    "        else:\n",
    "            parent[yroot] = xroot\n",
    "            rank[xroot] += 1\n",
    "\n",
    "    #  Applying Kruskal algorithm\n",
    "    def kruskal_algo(self, initial_edges):\n",
    "        result = initial_edges[:]\n",
    "        i, e = 0, len(initial_edges)\n",
    "        self.graph = sorted(self.graph, key=lambda item: item[2])\n",
    "        parent = []\n",
    "        rank = []\n",
    "        total = 0\n",
    "        for node in range(self.V):\n",
    "            parent.append(node)\n",
    "            rank.append(0)\n",
    "        for k in result:\n",
    "            u = k[0]\n",
    "            v = k[1]\n",
    "            w = k[2]\n",
    "            x = self.find(parent, u)\n",
    "            y = self.find(parent, v)\n",
    "            self.apply_union(parent, rank, x, y)\n",
    "        while e < self.V - 1:\n",
    "            u, v, w = self.graph[i]\n",
    "            i = i + 1\n",
    "            x = self.find(parent, u)\n",
    "            y = self.find(parent, v)\n",
    "            if x != y:\n",
    "                e = e + 1\n",
    "                result.append([u, v, w])\n",
    "                self.apply_union(parent, rank, x, y)\n",
    "                total += w\n",
    "        # for u, v, weight in result:\n",
    "            # print(\"%d - %d: %d\" % (u, v, weight))\n",
    "        print(\"Total = \", total)"
   ]
  },
  {
   "attachments": {},
   "cell_type": "markdown",
   "metadata": {},
   "source": [
    "Load"
   ]
  },
  {
   "cell_type": "code",
   "execution_count": 3,
   "metadata": {},
   "outputs": [],
   "source": [
    "arr = load(\"./graph_2.txt\")"
   ]
  },
  {
   "attachments": {},
   "cell_type": "markdown",
   "metadata": {},
   "source": [
    "Keys"
   ]
  },
  {
   "cell_type": "code",
   "execution_count": 4,
   "metadata": {},
   "outputs": [],
   "source": [
    "myList, myKeys = buildSet(arr)\n",
    "num_vertices = len(myList)\n",
    "num_edges = int((num_vertices * (num_vertices - 1)) / 2)"
   ]
  },
  {
   "attachments": {},
   "cell_type": "markdown",
   "metadata": {},
   "source": [
    "Indices"
   ]
  },
  {
   "cell_type": "code",
   "execution_count": 5,
   "metadata": {},
   "outputs": [],
   "source": [
    "indices = create_map(myList)"
   ]
  },
  {
   "attachments": {},
   "cell_type": "markdown",
   "metadata": {},
   "source": [
    "Test"
   ]
  },
  {
   "attachments": {},
   "cell_type": "markdown",
   "metadata": {},
   "source": [
    "Initial Edges"
   ]
  },
  {
   "cell_type": "code",
   "execution_count": 6,
   "metadata": {},
   "outputs": [],
   "source": [
    "initial_edges = []\n",
    "for i in range(0, len(arr), 2):\n",
    "    initial_edges.append([find_index((arr[i][0], arr[i][1])), find_index((arr[i + 1][0], arr[i + 1][1])), dist_2(arr[i], arr[i + 1])])"
   ]
  },
  {
   "cell_type": "code",
   "execution_count": 7,
   "metadata": {},
   "outputs": [
    {
     "name": "stderr",
     "output_type": "stream",
     "text": [
      "C:\\Users\\janhr\\AppData\\Local\\Temp\\ipykernel_3832\\1701954911.py:56: RuntimeWarning: invalid value encountered in sqrt\n",
      "  d = np.sqrt(np.sum((myArray[:, np.newaxis, :] - myArray[np.newaxis, :, :])**2, axis=-1))\n"
     ]
    }
   ],
   "source": [
    "# Convert myList to numpy array\n",
    "myArray = np.array(myList)\n",
    "# myArray = myArray.astype(int)\n",
    "\n",
    "# Compute pairwise distances using vectorized operations\n",
    "d = pairwise_distances(myArray)\n"
   ]
  },
  {
   "cell_type": "code",
   "execution_count": 8,
   "metadata": {},
   "outputs": [],
   "source": [
    "# Generate edges using numpy operations\n",
    "ii,jj = np.triu_indices(len(myArray), k=1)\n",
    "e = np.column_stack([ii,jj,d[ii,jj]])"
   ]
  },
  {
   "cell_type": "code",
   "execution_count": 10,
   "metadata": {},
   "outputs": [
    {
     "name": "stdout",
     "output_type": "stream",
     "text": [
      "[[4.331e+03 7.046e+03 1.000e+00]\n",
      " [2.485e+03 4.657e+03 1.000e+00]\n",
      " [3.311e+03 6.693e+03 1.000e+00]\n",
      " ...\n",
      " [2.546e+03 6.626e+03       nan]\n",
      " [2.546e+03 6.835e+03       nan]\n",
      " [9.855e+03 9.856e+03       nan]]\n"
     ]
    }
   ],
   "source": [
    "# Sort edges by weight\n",
    "e = e[e[:,2].argsort()]\n",
    "print(e)"
   ]
  },
  {
   "cell_type": "code",
   "execution_count": null,
   "metadata": {},
   "outputs": [],
   "source": [
    "# Add edges to graph\n",
    "g = Graph(num_vertices, e)"
   ]
  },
  {
   "attachments": {},
   "cell_type": "markdown",
   "metadata": {},
   "source": [
    "All edges"
   ]
  },
  {
   "cell_type": "code",
   "execution_count": 96,
   "metadata": {},
   "outputs": [],
   "source": [
    "# e = [[find_index(myList[i]), find_index(myList[j]), dist(myList[i], myList[j])] for i in range(len(myList)) for j in range(i + 1, len(myList))]"
   ]
  },
  {
   "attachments": {},
   "cell_type": "markdown",
   "metadata": {},
   "source": [
    "Add edges"
   ]
  },
  {
   "cell_type": "code",
   "execution_count": 97,
   "metadata": {},
   "outputs": [],
   "source": [
    "# e.sort(key=takeThird)\n",
    "# for i in e:\n",
    "#     g.add_edge(i[0], i[1], i[2])"
   ]
  },
  {
   "attachments": {},
   "cell_type": "markdown",
   "metadata": {},
   "source": [
    "Algorithm"
   ]
  },
  {
   "cell_type": "code",
   "execution_count": 98,
   "metadata": {},
   "outputs": [],
   "source": [
    "g.kruskal_algo(initial_edges)"
   ]
  }
 ],
 "metadata": {
  "kernelspec": {
   "display_name": "Python 3",
   "language": "python",
   "name": "python3"
  },
  "language_info": {
   "codemirror_mode": {
    "name": "ipython",
    "version": 3
   },
   "file_extension": ".py",
   "mimetype": "text/x-python",
   "name": "python",
   "nbconvert_exporter": "python",
   "pygments_lexer": "ipython3",
   "version": "3.10.0"
  },
  "orig_nbformat": 4
 },
 "nbformat": 4,
 "nbformat_minor": 2
}
