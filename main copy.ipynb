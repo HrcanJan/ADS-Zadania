{
 "cells": [
  {
   "attachments": {},
   "cell_type": "markdown",
   "metadata": {},
   "source": [
    "Functions"
   ]
  },
  {
   "cell_type": "code",
   "execution_count": 1285,
   "metadata": {},
   "outputs": [],
   "source": [
    "import re\n",
    "import numpy as np\n",
    "\n",
    "indices = {}\n",
    "\n",
    "\n",
    "def load(name):\n",
    "    \"\"\"\n",
    "    Load the data\n",
    "\n",
    "    params:\n",
    "    name:   file directory and name\n",
    "    \"\"\"\n",
    "    arr = []\n",
    "    with open(name) as f:\n",
    "        for i in f:\n",
    "            x = [j.strip() for j in re.split(',|\\[|\\]', i)]\n",
    "            xtmp = []\n",
    "            xtmp.append(int(x[1]))\n",
    "            xtmp.append(int(x[2]))\n",
    "            xtmp2 = []\n",
    "            xtmp2.append(int(x[4]))\n",
    "            xtmp2.append(int(x[5]))\n",
    "            arr.append(xtmp)\n",
    "            arr.append(xtmp2)\n",
    "\n",
    "    return arr\n",
    "\n",
    "\n",
    "def dist(a, b):\n",
    "    return np.sqrt(np.sum((a-b)**2))\n",
    "\n",
    "\n",
    "def dist_2(x, y):\n",
    "    x1 = x[0]\n",
    "    x2 = x[1]\n",
    "    y1 = y[0]\n",
    "    y2 = y[1]\n",
    "    return ((x1 - y1)**2 + (x2 - y2)**2)**0.5\n",
    "    \n",
    "\n",
    "def pairwise_distances(myArray):\n",
    "    # Set negative values to zero\n",
    "    myArray[myArray < 0] = 0\n",
    "    d = np.sqrt(np.sum((myArray[:, np.newaxis, :] - myArray[np.newaxis, :, :])**2, axis=-1))\n",
    "    return d\n",
    "\n",
    "\n",
    "def buildSet(arr):\n",
    "    my_set = set()\n",
    "    my_keys = []\n",
    "    c = 0\n",
    "    for i in arr:\n",
    "        x = (i[0], i[1])\n",
    "        if x not in my_set:\n",
    "            my_set.add((i[0], i[1]))\n",
    "            my_keys.append(c)\n",
    "            c += 1\n",
    "    l = list(my_set)\n",
    "    return l, my_keys\n",
    "\n",
    "\n",
    "def create_map(lst):\n",
    "    indices = {}\n",
    "    for i, x in enumerate(lst):\n",
    "        indices[x] = i\n",
    "    return indices\n",
    "\n",
    "\n",
    "def find_index(element):\n",
    "    return indices[element]"
   ]
  },
  {
   "attachments": {},
   "cell_type": "markdown",
   "metadata": {},
   "source": [
    "KD Tree"
   ]
  },
  {
   "cell_type": "code",
   "execution_count": 1286,
   "metadata": {},
   "outputs": [],
   "source": [
    "# Chat GPT helped me construct this\n",
    "class Node:\n",
    "    def __init__(self, data=None, split=None, left=None, right=None):\n",
    "        self.data = data\n",
    "        self.split = split\n",
    "        self.left = left\n",
    "        self.right = right\n",
    "\n",
    "class KDTree:\n",
    "    def __init__(self, points, graph):\n",
    "        self.root = self.build_kdtree(points)\n",
    "        self.graph = graph\n",
    "\n",
    "    def get(self):\n",
    "        return self.graph.get()\n",
    "    \n",
    "    def build_kdtree(self, points, depth=0):\n",
    "        n = len(points)\n",
    "        if n <= 0:\n",
    "            return None\n",
    "        \n",
    "        k = len(points[0])\n",
    "        axis = depth % k\n",
    "        sorted_points = sorted(points, key=lambda point: point[axis])\n",
    "        \n",
    "        mid = n // 2\n",
    "        return Node(\n",
    "            data=sorted_points[mid],\n",
    "            split=axis,\n",
    "            left=self.build_kdtree(sorted_points[:mid], depth+1),\n",
    "            right=self.build_kdtree(sorted_points[mid+1:], depth+1)\n",
    "        )\n",
    "    \n",
    "    def search_knn(self, query, k=1):\n",
    "        x, y = -1, -1\n",
    "        ex = [query]\n",
    "        while x == y:\n",
    "            knn = []\n",
    "            self.search_knn_helper(query, self.root, knn, k, ex)\n",
    "            u = find_index(knn[0])\n",
    "            v = find_index(query)\n",
    "            parent = self.graph.get_parent()\n",
    "            x = self.graph.find(parent, u)\n",
    "            y = self.graph.find(parent, v)\n",
    "            ex.append(knn[0])\n",
    "        self.graph.add_edge(u, v, dist_2(query, knn[0]))\n",
    "        return knn\n",
    "    \n",
    "    def closer_distrance(p1, p2, p):\n",
    "        if p1 is None:\n",
    "            return p2\n",
    "        \n",
    "        if p2 is None:\n",
    "            return p1\n",
    "        \n",
    "        if dist_2(p, p1) < dist_2(p, p2):\n",
    "            return p1\n",
    "\n",
    "        return p2\n",
    "\n",
    "    def search_knn_helper(self, query, node, knn, k, ex):\n",
    "        if node is None:\n",
    "            return\n",
    "            \n",
    "        # print(node.data)\n",
    "        axis = node.split\n",
    "        # print(query[axis], node.data[axis])\n",
    "        if query[axis] < node.data[axis]:\n",
    "            self.search_knn_helper(query, node.left, knn, k, ex)\n",
    "            further_child = node.right\n",
    "            closer_child = node.left\n",
    "        else:\n",
    "            self.search_knn_helper(query, node.right, knn, k, ex)\n",
    "            further_child = node.left\n",
    "            closer_child = node.right\n",
    "            \n",
    "        # print(knn)\n",
    "        if node.data not in ex and node.data not in knn:  # skip nodes whose point is the same as the query point or already in knn\n",
    "            knn.append(node.data)\n",
    "            knn.sort(key=lambda point: np.linalg.norm(np.array(point) - query))\n",
    "            while len(knn) > k:\n",
    "                knn.pop()\n",
    "                \n",
    "            # print(abs(query[axis] - node.data[axis]), np.linalg.norm(np.array(knn[-1]) - query))\n",
    "            if further_child is not None and \\\n",
    "            abs(query[axis] - node.data[axis]) < np.linalg.norm(np.array(knn[-1]) - query):\n",
    "                self.search_knn_helper(query, further_child, knn, k, ex)\n",
    "\n"
   ]
  },
  {
   "attachments": {},
   "cell_type": "markdown",
   "metadata": {},
   "source": [
    "Class"
   ]
  },
  {
   "cell_type": "code",
   "execution_count": 1287,
   "metadata": {},
   "outputs": [],
   "source": [
    "# Credit to: https://www.programiz.com/dsa/kruskal-algorithm\n",
    "class Graph:\n",
    "    def __init__(self, vertices, edge):\n",
    "        self.V = vertices\n",
    "        self.graph = edge\n",
    "        self.parent = []\n",
    "        self.rank = []\n",
    "        for node in range(self.V):\n",
    "            self.parent.append(node)\n",
    "            self.rank.append(0)\n",
    "        self.result = self.graph[:]\n",
    "        self.graph = sorted(self.graph, key=lambda item: item[2])\n",
    "        for k in self.result:\n",
    "            u = k[0]\n",
    "            v = k[1]\n",
    "            x = self.find(self.parent, u)\n",
    "            y = self.find(self.parent, v)\n",
    "            self.apply_union(self.parent, self.rank, x, y)\n",
    "        # print(self.parent)\n",
    "        \n",
    "\n",
    "    def add_edge(self, u, v, w):\n",
    "        self.graph.append([u, v, w])\n",
    "\n",
    "    def get_parent(self):\n",
    "        return self.parent\n",
    "    \n",
    "    def get_rank(self):\n",
    "        return self.rank\n",
    "\n",
    "    def get(self):\n",
    "        return self.graph\n",
    "\n",
    "    # Search function\n",
    "    def find(self, parent, i):\n",
    "        if parent[i] == i:\n",
    "            return i\n",
    "        return self.find(parent, parent[i])\n",
    "\n",
    "    def apply_union(self, parent, rank, x, y):\n",
    "        xroot = self.find(parent, x)\n",
    "        yroot = self.find(parent, y)\n",
    "        if rank[xroot] < rank[yroot]:\n",
    "            parent[xroot] = yroot\n",
    "        elif rank[xroot] > rank[yroot]:\n",
    "            parent[yroot] = xroot\n",
    "        else:\n",
    "            parent[yroot] = xroot\n",
    "            rank[xroot] += 1\n",
    "\n",
    "    #  Applying Kruskal algorithm\n",
    "    def kruskal_algo(self, initial_edges):\n",
    "        # result = initial_edges[:]\n",
    "        i, e = 0, len(initial_edges)\n",
    "        # self.graph = sorted(self.graph, key=lambda item: item[2])\n",
    "        # parent = []\n",
    "        # rank = []\n",
    "        total = 0\n",
    "        #for node in range(self.V):\n",
    "        #    parent.append(node)\n",
    "        #    rank.append(0)\n",
    "        # for k in result:\n",
    "        #     u = k[0]\n",
    "        #     v = k[1]\n",
    "        #     x = self.find(self.parent, u)\n",
    "        #     y = self.find(self.parent, v)\n",
    "        #     self.apply_union(self.parent, self.rank, x, y)\n",
    "        while e < self.V - 1:\n",
    "            u, v, w = self.graph[i]\n",
    "            i = i + 1\n",
    "            x = self.find(self.parent, u)\n",
    "            y = self.find(self.parent, v)\n",
    "            if x != y:\n",
    "                e = e + 1\n",
    "                self.result.append([u, v, w])\n",
    "                self.apply_union(self.parent, self.rank, x, y)\n",
    "                total += w\n",
    "        # for u, v, weight in result:\n",
    "            # print(\"%d - %d: %d\" % (u, v, weight))\n",
    "        print(\"Total = \", total)"
   ]
  },
  {
   "attachments": {},
   "cell_type": "markdown",
   "metadata": {},
   "source": [
    "Load"
   ]
  },
  {
   "cell_type": "code",
   "execution_count": 1288,
   "metadata": {},
   "outputs": [],
   "source": [
    "arr = load(\"./graf18.txt\")"
   ]
  },
  {
   "attachments": {},
   "cell_type": "markdown",
   "metadata": {},
   "source": [
    "Keys"
   ]
  },
  {
   "cell_type": "code",
   "execution_count": 1289,
   "metadata": {},
   "outputs": [],
   "source": [
    "myList, myKeys = buildSet(arr)\n",
    "num_vertices = len(myList)\n",
    "num_edges = int((num_vertices *  (num_vertices - 1)) / 2)"
   ]
  },
  {
   "attachments": {},
   "cell_type": "markdown",
   "metadata": {},
   "source": [
    "Indices"
   ]
  },
  {
   "cell_type": "code",
   "execution_count": 1290,
   "metadata": {},
   "outputs": [
    {
     "data": {
      "text/plain": [
       "{(2, 14): 0,\n",
       " (10, 11): 1,\n",
       " (9, 3): 2,\n",
       " (4, 12): 3,\n",
       " (3, 16): 4,\n",
       " (4, 2): 5,\n",
       " (1, 17): 6,\n",
       " (7, 9): 7,\n",
       " (3, 3): 8,\n",
       " (2, 12): 9,\n",
       " (10, 12): 10,\n",
       " (1, 16): 11,\n",
       " (4, 11): 12,\n",
       " (9, 11): 13,\n",
       " (3, 2): 14,\n",
       " (6, 3): 15,\n",
       " (6, 9): 16,\n",
       " (11, 11): 17}"
      ]
     },
     "execution_count": 1290,
     "metadata": {},
     "output_type": "execute_result"
    }
   ],
   "source": [
    "indices = create_map(myList)\n",
    "indices"
   ]
  },
  {
   "attachments": {},
   "cell_type": "markdown",
   "metadata": {},
   "source": [
    "Initial Edges"
   ]
  },
  {
   "cell_type": "code",
   "execution_count": 1291,
   "metadata": {},
   "outputs": [],
   "source": [
    "initial_edges = []\n",
    "for i in range(0, len(arr), 2):\n",
    "    initial_edges.append([find_index((arr[i][0], arr[i][1])), find_index((arr[i + 1][0], arr[i + 1][1])), dist_2(arr[i], arr[i + 1])])\n"
   ]
  },
  {
   "attachments": {},
   "cell_type": "markdown",
   "metadata": {},
   "source": [
    "Make Graph"
   ]
  },
  {
   "cell_type": "code",
   "execution_count": 1292,
   "metadata": {},
   "outputs": [
    {
     "data": {
      "text/plain": [
       "[[6, 11, 1.0],\n",
       " [16, 7, 1.0],\n",
       " [8, 14, 1.0],\n",
       " [14, 5, 1.0],\n",
       " [3, 12, 1.0],\n",
       " [1, 10, 1.0],\n",
       " [11, 4, 2.0],\n",
       " [0, 9, 2.0],\n",
       " [9, 3, 2.0],\n",
       " [13, 17, 2.0],\n",
       " [15, 2, 3.0]]"
      ]
     },
     "execution_count": 1292,
     "metadata": {},
     "output_type": "execute_result"
    }
   ],
   "source": [
    "g = Graph(num_vertices, initial_edges)\n",
    "g.get()"
   ]
  },
  {
   "attachments": {},
   "cell_type": "markdown",
   "metadata": {},
   "source": [
    "Tree"
   ]
  },
  {
   "cell_type": "code",
   "execution_count": 1293,
   "metadata": {},
   "outputs": [],
   "source": [
    "kd = KDTree(myList, g)"
   ]
  },
  {
   "attachments": {},
   "cell_type": "markdown",
   "metadata": {},
   "source": [
    "Find new edges"
   ]
  },
  {
   "cell_type": "code",
   "execution_count": 1294,
   "metadata": {},
   "outputs": [
    {
     "name": "stdout",
     "output_type": "stream",
     "text": [
      "[]\n",
      "[]\n",
      "[(2, 14)]\n",
      "[(3, 16)]\n",
      "[(3, 16)]\n",
      "[]\n",
      "[]\n",
      "[(2, 14)]\n",
      "[(2, 14)]\n",
      "[(2, 14)]\n",
      "[(2, 14)]\n",
      "[(2, 14)]\n",
      "[(2, 14)]\n"
     ]
    },
    {
     "data": {
      "text/plain": [
       "[[6, 11, 1.0],\n",
       " [16, 7, 1.0],\n",
       " [8, 14, 1.0],\n",
       " [14, 5, 1.0],\n",
       " [3, 12, 1.0],\n",
       " [1, 10, 1.0],\n",
       " [11, 4, 2.0],\n",
       " [0, 9, 2.0],\n",
       " [9, 3, 2.0],\n",
       " [13, 17, 2.0],\n",
       " [15, 2, 3.0],\n",
       " [0, 6, 3.1622776601683795]]"
      ]
     },
     "execution_count": 1294,
     "metadata": {},
     "output_type": "execute_result"
    }
   ],
   "source": [
    "xx = kd.search_knn((1, 17))\n",
    "g.get()"
   ]
  },
  {
   "attachments": {},
   "cell_type": "markdown",
   "metadata": {},
   "source": [
    "Algorithm"
   ]
  },
  {
   "cell_type": "code",
   "execution_count": 1295,
   "metadata": {},
   "outputs": [],
   "source": [
    "# g.kruskal_algo(initial_edges)"
   ]
  }
 ],
 "metadata": {
  "kernelspec": {
   "display_name": "Python 3",
   "language": "python",
   "name": "python3"
  },
  "language_info": {
   "codemirror_mode": {
    "name": "ipython",
    "version": 3
   },
   "file_extension": ".py",
   "mimetype": "text/x-python",
   "name": "python",
   "nbconvert_exporter": "python",
   "pygments_lexer": "ipython3",
   "version": "3.10.0"
  },
  "orig_nbformat": 4
 },
 "nbformat": 4,
 "nbformat_minor": 2
}
