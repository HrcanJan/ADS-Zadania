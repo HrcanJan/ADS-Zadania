{
 "cells": [
  {
   "attachments": {},
   "cell_type": "markdown",
   "metadata": {},
   "source": [
    "Functions"
   ]
  },
  {
   "cell_type": "code",
   "execution_count": 224,
   "metadata": {},
   "outputs": [],
   "source": [
    "import re\n",
    "import numpy as np\n",
    "\n",
    "indices = {}\n",
    "\n",
    "\n",
    "def load(name):\n",
    "    \"\"\"\n",
    "    Load the data\n",
    "\n",
    "    params:\n",
    "    name:   file directory and name\n",
    "    \"\"\"\n",
    "    arr = []\n",
    "    with open(name) as f:\n",
    "        for i in f:\n",
    "            x = [j.strip() for j in re.split(',|\\[|\\]', i)]\n",
    "            xtmp = []\n",
    "            xtmp.append(int(x[1]))\n",
    "            xtmp.append(int(x[2]))\n",
    "            xtmp2 = []\n",
    "            xtmp2.append(int(x[4]))\n",
    "            xtmp2.append(int(x[5]))\n",
    "            arr.append(xtmp)\n",
    "            arr.append(xtmp2)\n",
    "\n",
    "    return arr\n",
    "\n",
    "\n",
    "# textArr.sort(key=takeSecond)\n",
    "def takeThird(arr):\n",
    "    \"\"\"\n",
    "    Used as a key to return the 2nd element in an array\n",
    "\n",
    "    params:\n",
    "    arr:    input array\n",
    "    \"\"\"\n",
    "    return arr[2]\n",
    "\n",
    "\n",
    "def dist(a, b):\n",
    "    return np.sqrt(np.sum((a-b)**2))\n",
    "\n",
    "\n",
    "def dist_2(x, y):\n",
    "    x1 = x[0]\n",
    "    x2 = x[1]\n",
    "    y1 = y[0]\n",
    "    y2 = y[1]\n",
    "    return ((x1 - y1)**2 + (x2 - y2)**2)**0.5\n",
    "    \n",
    "\n",
    "def pairwise_distances(myArray):\n",
    "    # Set negative values to zero\n",
    "    myArray[myArray < 0] = 0\n",
    "    d = np.sqrt(np.sum((myArray[:, np.newaxis, :] - myArray[np.newaxis, :, :])**2, axis=-1))\n",
    "    return d\n",
    "\n",
    "\n",
    "def buildSet(arr):\n",
    "    my_set = set()\n",
    "    my_keys = []\n",
    "    c = 0\n",
    "    for i in arr:\n",
    "        x = (i[0], i[1])\n",
    "        if x not in my_set:\n",
    "            my_set.add((i[0], i[1]))\n",
    "            my_keys.append(c)\n",
    "            c += 1\n",
    "    l = list(my_set)\n",
    "    return l, my_keys\n",
    "\n",
    "\n",
    "def create_map(lst):\n",
    "    indices = {}\n",
    "    for i, x in enumerate(lst):\n",
    "        indices[x] = i\n",
    "    return indices\n",
    "\n",
    "\n",
    "def find_index(element):\n",
    "    return indices[element]"
   ]
  },
  {
   "attachments": {},
   "cell_type": "markdown",
   "metadata": {},
   "source": [
    "KD Tree"
   ]
  },
  {
   "cell_type": "code",
   "execution_count": 225,
   "metadata": {},
   "outputs": [],
   "source": [
    "# Chat GPT helped me construct this\n",
    "class Node:\n",
    "    def __init__(self, data=None, split=None, left=None, right=None):\n",
    "        self.data = data\n",
    "        self.split = split\n",
    "        self.left = left\n",
    "        self.right = right\n",
    "\n",
    "class KDTree:\n",
    "    def __init__(self, points):\n",
    "        self.root = self.build_kdtree(points)\n",
    "    \n",
    "    def build_kdtree(self, points, depth=0):\n",
    "        n = len(points)\n",
    "        if n <= 0:\n",
    "            return None\n",
    "        \n",
    "        k = len(points[0])\n",
    "        axis = depth % k\n",
    "        sorted_points = sorted(points, key=lambda point: point[axis])\n",
    "        \n",
    "        mid = n // 2\n",
    "        return Node(\n",
    "            data=sorted_points[mid],\n",
    "            split=axis,\n",
    "            left=self.build_kdtree(sorted_points[:mid], depth+1),\n",
    "            right=self.build_kdtree(sorted_points[mid+1:], depth+1)\n",
    "        )\n",
    "    \n",
    "    def search_knn(self, query, k=1):\n",
    "        knn = []\n",
    "        self.search_knn_helper(query, self.root, knn, k)\n",
    "        return knn\n",
    "\n",
    "    def search_knn_helper(self, query, node, knn, k):\n",
    "        if node is None:\n",
    "            return\n",
    "        \n",
    "        axis = node.split\n",
    "        if query[axis] < node.data[axis]:\n",
    "            self.search_knn_helper(query, node.left, knn, k)\n",
    "            nearer_child = node.left\n",
    "            further_child = node.right\n",
    "        else:\n",
    "            self.search_knn_helper(query, node.right, knn, k)\n",
    "            nearer_child = node.right\n",
    "            further_child = node.left\n",
    "        \n",
    "        if node.data != query:  # skip nodes whose point is the same as the query point\n",
    "            knn.append(node.data)\n",
    "            knn.sort(key=lambda point: np.linalg.norm(np.array(point) - query))\n",
    "            while len(knn) > k:\n",
    "                knn.pop()\n",
    "            \n",
    "            if further_child is not None and \\\n",
    "            abs(query[axis] - node.data[axis]) < np.linalg.norm(np.array(knn[-1]) - query):\n",
    "                self.search_knn_helper(query, further_child, knn, k)\n",
    "\n"
   ]
  },
  {
   "attachments": {},
   "cell_type": "markdown",
   "metadata": {},
   "source": [
    "Class"
   ]
  },
  {
   "cell_type": "code",
   "execution_count": 226,
   "metadata": {},
   "outputs": [],
   "source": [
    "# Credit to: https://www.programiz.com/dsa/kruskal-algorithm\n",
    "class Graph:\n",
    "    def __init__(self, vertices, edge):\n",
    "        self.V = vertices\n",
    "        self.graph = edge\n",
    "        self.i = 0\n",
    "\n",
    "    def get(self):\n",
    "        return self.graph\n",
    "\n",
    "    # Search function\n",
    "    def find(self, parent, i):\n",
    "        if parent[i] == i:\n",
    "            return i\n",
    "        return self.find(parent, parent[i])\n",
    "\n",
    "    def apply_union(self, parent, rank, x, y):\n",
    "        xroot = self.find(parent, x)\n",
    "        yroot = self.find(parent, y)\n",
    "        if rank[xroot] < rank[yroot]:\n",
    "            parent[xroot] = yroot\n",
    "        elif rank[xroot] > rank[yroot]:\n",
    "            parent[yroot] = xroot\n",
    "        else:\n",
    "            parent[yroot] = xroot\n",
    "            rank[xroot] += 1\n",
    "\n",
    "    #  Applying Kruskal algorithm\n",
    "    def kruskal_algo(self, initial_edges):\n",
    "        result = initial_edges[:]\n",
    "        i, e = 0, len(initial_edges)\n",
    "        self.graph = sorted(self.graph, key=lambda item: item[2])\n",
    "        parent = []\n",
    "        rank = []\n",
    "        total = 0\n",
    "        for node in range(self.V):\n",
    "            parent.append(node)\n",
    "            rank.append(0)\n",
    "        for k in result:\n",
    "            u = k[0]\n",
    "            v = k[1]\n",
    "            w = k[2]\n",
    "            x = self.find(parent, u)\n",
    "            y = self.find(parent, v)\n",
    "            self.apply_union(parent, rank, x, y)\n",
    "        while e < self.V - 1:\n",
    "            u, v, w = self.graph[i]\n",
    "            i = i + 1\n",
    "            x = self.find(parent, u)\n",
    "            y = self.find(parent, v)\n",
    "            if x != y:\n",
    "                e = e + 1\n",
    "                result.append([u, v, w])\n",
    "                self.apply_union(parent, rank, x, y)\n",
    "                total += w\n",
    "        # for u, v, weight in result:\n",
    "            # print(\"%d - %d: %d\" % (u, v, weight))\n",
    "        print(\"Total = \", total)"
   ]
  },
  {
   "attachments": {},
   "cell_type": "markdown",
   "metadata": {},
   "source": [
    "Load"
   ]
  },
  {
   "cell_type": "code",
   "execution_count": 227,
   "metadata": {},
   "outputs": [],
   "source": [
    "arr = load(\"./graf18.txt\")"
   ]
  },
  {
   "attachments": {},
   "cell_type": "markdown",
   "metadata": {},
   "source": [
    "Keys"
   ]
  },
  {
   "cell_type": "code",
   "execution_count": 228,
   "metadata": {},
   "outputs": [],
   "source": [
    "myList, myKeys = buildSet(arr)\n",
    "num_vertices = len(myList)\n",
    "num_edges = int((num_vertices * (num_vertices - 1)) / 2)"
   ]
  },
  {
   "attachments": {},
   "cell_type": "markdown",
   "metadata": {},
   "source": [
    "Indices"
   ]
  },
  {
   "cell_type": "code",
   "execution_count": 229,
   "metadata": {},
   "outputs": [],
   "source": [
    "indices = create_map(myList)"
   ]
  },
  {
   "attachments": {},
   "cell_type": "markdown",
   "metadata": {},
   "source": [
    "Test"
   ]
  },
  {
   "cell_type": "code",
   "execution_count": 230,
   "metadata": {},
   "outputs": [
    {
     "name": "stdout",
     "output_type": "stream",
     "text": [
      "[(2, 12)]\n"
     ]
    }
   ],
   "source": [
    "kd = KDTree(myList)\n",
    "xx = kd.search_knn(myList[0])\n",
    "print(xx)"
   ]
  },
  {
   "attachments": {},
   "cell_type": "markdown",
   "metadata": {},
   "source": [
    "Initial Edges"
   ]
  },
  {
   "cell_type": "code",
   "execution_count": 195,
   "metadata": {},
   "outputs": [],
   "source": [
    "initial_edges = []\n",
    "for i in range(0, len(arr), 2):\n",
    "    initial_edges.append([find_index((arr[i][0], arr[i][1])), find_index((arr[i + 1][0], arr[i + 1][1])), dist_2(arr[i], arr[i + 1])])"
   ]
  },
  {
   "cell_type": "code",
   "execution_count": 196,
   "metadata": {},
   "outputs": [],
   "source": [
    "# Convert myList to numpy array\n",
    "myArray = np.array(myList)\n",
    "# myArray = myArray.astype(int)\n",
    "\n",
    "# Compute pairwise distances using vectorized operations\n",
    "d = pairwise_distances(myArray)\n"
   ]
  },
  {
   "cell_type": "code",
   "execution_count": 197,
   "metadata": {},
   "outputs": [],
   "source": [
    "# Generate edges using numpy operations\n",
    "ii,jj = np.triu_indices(len(myArray), k=1)\n",
    "e = np.column_stack([ii,jj,d[ii,jj]])"
   ]
  },
  {
   "cell_type": "code",
   "execution_count": 198,
   "metadata": {},
   "outputs": [
    {
     "name": "stdout",
     "output_type": "stream",
     "text": [
      "[[ 3.         12.          1.        ]\n",
      " [ 1.         17.          1.        ]\n",
      " [ 8.         14.          1.        ]\n",
      " [ 5.         14.          1.        ]\n",
      " [ 1.         13.          1.        ]\n",
      " [ 6.         11.          1.        ]\n",
      " [ 1.         10.          1.        ]\n",
      " [ 7.         16.          1.        ]\n",
      " [ 5.          8.          1.41421356]\n",
      " [10.         13.          1.41421356]\n",
      " [10.         17.          1.41421356]\n",
      " [ 4.         11.          2.        ]\n",
      " [ 0.          9.          2.        ]\n",
      " [13.         17.          2.        ]\n",
      " [ 3.          9.          2.        ]\n",
      " [ 9.         12.          2.23606798]\n",
      " [ 4.          6.          2.23606798]\n",
      " [ 5.         15.          2.23606798]\n",
      " [ 0.          4.          2.23606798]\n",
      " [ 0.         11.          2.23606798]\n",
      " [ 7.         13.          2.82842712]\n",
      " [ 0.          3.          2.82842712]\n",
      " [12.         16.          2.82842712]\n",
      " [ 8.         15.          3.        ]\n",
      " [ 2.         15.          3.        ]\n",
      " [ 0.          6.          3.16227766]\n",
      " [14.         15.          3.16227766]\n",
      " [ 0.         12.          3.60555128]\n",
      " [13.         16.          3.60555128]\n",
      " [ 1.          7.          3.60555128]\n",
      " [ 7.         12.          3.60555128]\n",
      " [ 3.         16.          3.60555128]\n",
      " [ 4.          9.          4.12310563]\n",
      " [ 9.         11.          4.12310563]\n",
      " [ 3.          4.          4.12310563]\n",
      " [ 3.          7.          4.24264069]\n",
      " [ 7.         10.          4.24264069]\n",
      " [ 7.         17.          4.47213595]\n",
      " [ 1.         16.          4.47213595]\n",
      " [ 3.         11.          5.        ]\n",
      " [ 9.         16.          5.        ]\n",
      " [10.         16.          5.        ]\n",
      " [12.         13.          5.        ]\n",
      " [ 3.         13.          5.09901951]\n",
      " [ 6.          9.          5.09901951]\n",
      " [ 4.         12.          5.09901951]\n",
      " [ 2.          5.          5.09901951]\n",
      " [16.         17.          5.38516481]\n",
      " [ 7.          9.          5.83095189]\n",
      " [ 3.          6.          5.83095189]\n",
      " [11.         12.          5.83095189]\n",
      " [15.         16.          6.        ]\n",
      " [ 2.          8.          6.        ]\n",
      " [ 3.         10.          6.        ]\n",
      " [ 1.         12.          6.        ]\n",
      " [ 2.         14.          6.08276253]\n",
      " [ 7.         15.          6.08276253]\n",
      " [ 1.          3.          6.08276253]\n",
      " [10.         12.          6.08276253]\n",
      " [ 2.          7.          6.32455532]\n",
      " [ 0.         16.          6.40312424]\n",
      " [ 6.         12.          6.70820393]\n",
      " [ 2.         16.          6.70820393]\n",
      " [ 8.         16.          6.70820393]\n",
      " [12.         17.          7.        ]\n",
      " [ 0.          7.          7.07106781]\n",
      " [ 9.         13.          7.07106781]\n",
      " [ 3.         17.          7.07106781]\n",
      " [ 7.          8.          7.21110255]\n",
      " [ 5.         16.          7.28010989]\n",
      " [14.         16.          7.61577311]\n",
      " [ 4.         16.          7.61577311]\n",
      " [ 5.          7.          7.61577311]\n",
      " [ 0.         13.          7.61577311]\n",
      " [ 4.         13.          7.81024968]\n",
      " [ 2.         13.          8.        ]\n",
      " [ 9.         10.          8.        ]\n",
      " [ 1.          2.          8.06225775]\n",
      " [ 4.          7.          8.06225775]\n",
      " [ 4.         10.          8.06225775]\n",
      " [ 1.          9.          8.06225775]\n",
      " [ 7.         14.          8.06225775]\n",
      " [ 8.         12.          8.06225775]\n",
      " [ 2.         17.          8.24621125]\n",
      " [ 0.         10.          8.24621125]\n",
      " [12.         15.          8.24621125]\n",
      " [13.         15.          8.54400375]\n",
      " [ 0.          1.          8.54400375]\n",
      " [11.         16.          8.60232527]\n",
      " [ 1.          4.          8.60232527]\n",
      " [ 1.         15.          8.94427191]\n",
      " [ 5.         12.          9.        ]\n",
      " [ 3.          8.          9.05538514]\n",
      " [ 8.          9.          9.05538514]\n",
      " [ 2.         10.          9.05538514]\n",
      " [12.         14.          9.05538514]\n",
      " [ 9.         17.          9.05538514]\n",
      " [ 3.         15.          9.21954446]\n",
      " [ 7.         11.          9.21954446]\n",
      " [ 6.         16.          9.43398113]\n",
      " [11.         13.          9.43398113]\n",
      " [ 2.         12.          9.43398113]\n",
      " [15.         17.          9.43398113]\n",
      " [ 4.         17.          9.43398113]\n",
      " [ 0.         17.          9.48683298]\n",
      " [10.         11.          9.8488578 ]\n",
      " [ 9.         15.          9.8488578 ]\n",
      " [10.         15.          9.8488578 ]\n",
      " [ 8.         13.         10.        ]\n",
      " [ 6.         13.         10.        ]\n",
      " [ 3.          5.         10.        ]\n",
      " [ 6.          7.         10.        ]\n",
      " [ 3.         14.         10.04987562]\n",
      " [ 9.         14.         10.04987562]\n",
      " [ 5.          9.         10.19803903]\n",
      " [ 5.         13.         10.29563014]\n",
      " [ 6.         10.         10.29563014]\n",
      " [ 2.          3.         10.29563014]\n",
      " [ 1.         11.         10.29563014]\n",
      " [ 1.          8.         10.63014581]\n",
      " [ 1.          5.         10.81665383]\n",
      " [ 1.          6.         10.81665383]\n",
      " [13.         14.         10.81665383]\n",
      " [ 0.          8.         11.04536102]\n",
      " [11.         17.         11.18033989]\n",
      " [ 8.         17.         11.3137085 ]\n",
      " [ 2.          9.         11.40175425]\n",
      " [ 5.         17.         11.40175425]\n",
      " [ 8.         10.         11.40175425]\n",
      " [ 1.         14.         11.40175425]\n",
      " [ 6.         17.         11.66190379]\n",
      " [ 5.         10.         11.66190379]\n",
      " [ 0.         15.         11.70469991]\n",
      " [14.         17.         12.04159458]\n",
      " [ 0.         14.         12.04159458]\n",
      " [ 0.          5.         12.16552506]\n",
      " [10.         14.         12.20655562]\n",
      " [ 4.          8.         13.        ]\n",
      " [ 0.          2.         13.03840481]\n",
      " [ 8.         11.         13.15294644]\n",
      " [ 4.         15.         13.34166406]\n",
      " [11.         15.         13.92838828]\n",
      " [ 4.         14.         14.        ]\n",
      " [ 4.          5.         14.03566885]\n",
      " [11.         14.         14.14213562]\n",
      " [ 6.          8.         14.14213562]\n",
      " [ 5.         11.         14.31782106]\n",
      " [ 2.          4.         14.31782106]\n",
      " [ 6.         15.         14.86606875]\n",
      " [ 6.         14.         15.13274595]\n",
      " [ 2.         11.         15.26433752]\n",
      " [ 5.          6.         15.29705854]\n",
      " [ 2.          6.         16.1245155 ]]\n"
     ]
    }
   ],
   "source": [
    "# Sort edges by weight\n",
    "e = e[e[:,2].argsort()]\n",
    "print(e)"
   ]
  },
  {
   "cell_type": "code",
   "execution_count": 199,
   "metadata": {},
   "outputs": [],
   "source": [
    "# Add edges to graph\n",
    "g = Graph(num_vertices, e)"
   ]
  },
  {
   "attachments": {},
   "cell_type": "markdown",
   "metadata": {},
   "source": [
    "All edges"
   ]
  },
  {
   "cell_type": "code",
   "execution_count": 200,
   "metadata": {},
   "outputs": [],
   "source": [
    "# e = [[find_index(myList[i]), find_index(myList[j]), dist(myList[i], myList[j])] for i in range(len(myList)) for j in range(i + 1, len(myList))]"
   ]
  },
  {
   "attachments": {},
   "cell_type": "markdown",
   "metadata": {},
   "source": [
    "Add edges"
   ]
  },
  {
   "cell_type": "code",
   "execution_count": 201,
   "metadata": {},
   "outputs": [],
   "source": [
    "# e.sort(key=takeThird)\n",
    "# for i in e:\n",
    "#     g.add_edge(i[0], i[1], i[2])"
   ]
  },
  {
   "attachments": {},
   "cell_type": "markdown",
   "metadata": {},
   "source": [
    "Algorithm"
   ]
  },
  {
   "cell_type": "code",
   "execution_count": 202,
   "metadata": {},
   "outputs": [
    {
     "ename": "TypeError",
     "evalue": "list indices must be integers or slices, not numpy.float64",
     "output_type": "error",
     "traceback": [
      "\u001b[1;31m---------------------------------------------------------------------------\u001b[0m",
      "\u001b[1;31mTypeError\u001b[0m                                 Traceback (most recent call last)",
      "Cell \u001b[1;32mIn[202], line 1\u001b[0m\n\u001b[1;32m----> 1\u001b[0m g\u001b[39m.\u001b[39;49mkruskal_algo(initial_edges)\n",
      "Cell \u001b[1;32mIn[190], line 49\u001b[0m, in \u001b[0;36mGraph.kruskal_algo\u001b[1;34m(self, initial_edges)\u001b[0m\n\u001b[0;32m     47\u001b[0m u, v, w \u001b[39m=\u001b[39m \u001b[39mself\u001b[39m\u001b[39m.\u001b[39mgraph[i]\n\u001b[0;32m     48\u001b[0m i \u001b[39m=\u001b[39m i \u001b[39m+\u001b[39m \u001b[39m1\u001b[39m\n\u001b[1;32m---> 49\u001b[0m x \u001b[39m=\u001b[39m \u001b[39mself\u001b[39;49m\u001b[39m.\u001b[39;49mfind(parent, u)\n\u001b[0;32m     50\u001b[0m y \u001b[39m=\u001b[39m \u001b[39mself\u001b[39m\u001b[39m.\u001b[39mfind(parent, v)\n\u001b[0;32m     51\u001b[0m \u001b[39mif\u001b[39;00m x \u001b[39m!=\u001b[39m y:\n",
      "Cell \u001b[1;32mIn[190], line 13\u001b[0m, in \u001b[0;36mGraph.find\u001b[1;34m(self, parent, i)\u001b[0m\n\u001b[0;32m     12\u001b[0m \u001b[39mdef\u001b[39;00m \u001b[39mfind\u001b[39m(\u001b[39mself\u001b[39m, parent, i):\n\u001b[1;32m---> 13\u001b[0m     \u001b[39mif\u001b[39;00m parent[i] \u001b[39m==\u001b[39m i:\n\u001b[0;32m     14\u001b[0m         \u001b[39mreturn\u001b[39;00m i\n\u001b[0;32m     15\u001b[0m     \u001b[39mreturn\u001b[39;00m \u001b[39mself\u001b[39m\u001b[39m.\u001b[39mfind(parent, parent[i])\n",
      "\u001b[1;31mTypeError\u001b[0m: list indices must be integers or slices, not numpy.float64"
     ]
    }
   ],
   "source": [
    "g.kruskal_algo(initial_edges)"
   ]
  }
 ],
 "metadata": {
  "kernelspec": {
   "display_name": "Python 3",
   "language": "python",
   "name": "python3"
  },
  "language_info": {
   "codemirror_mode": {
    "name": "ipython",
    "version": 3
   },
   "file_extension": ".py",
   "mimetype": "text/x-python",
   "name": "python",
   "nbconvert_exporter": "python",
   "pygments_lexer": "ipython3",
   "version": "3.10.0"
  },
  "orig_nbformat": 4
 },
 "nbformat": 4,
 "nbformat_minor": 2
}
